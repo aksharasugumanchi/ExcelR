{
 "cells": [
  {
   "cell_type": "markdown",
   "id": "b7021770",
   "metadata": {},
   "source": [
    "Coding Questions\n",
    "1. Jupyter Notebook and Data Types\n",
    "Write a program in Jupyter Notebook to declare variables of different data types (integer.\n",
    "float, string, and boolean). Print each variable and its type. "
   ]
  },
  {
   "cell_type": "code",
   "execution_count": 1,
   "id": "466b9f78",
   "metadata": {},
   "outputs": [
    {
     "name": "stdout",
     "output_type": "stream",
     "text": [
      "Integer Variable: 10 Type: <class 'int'>\n",
      "Float Variable: 20.5 Type: <class 'float'>\n",
      "String Variable: Hello Type: <class 'str'>\n",
      "Boolean Variable: True Type: <class 'bool'>\n"
     ]
    }
   ],
   "source": [
    "# Declaring the  variables of different data types\n",
    "integer_var = 10        # Integer\n",
    "float_var = 20.5        # Float\n",
    "string_var = \"Hello\"    # String\n",
    "boolean_var = True      # Boolean\n",
    "\n",
    "# Printing each variable and its type\n",
    "print(\"Integer Variable:\", integer_var, \"Type:\", type(integer_var))\n",
    "print(\"Float Variable:\", float_var, \"Type:\", type(float_var))\n",
    "print(\"String Variable:\", string_var, \"Type:\", type(string_var))\n",
    "print(\"Boolean Variable:\", boolean_var, \"Type:\", type(boolean_var))"
   ]
  },
  {
   "cell_type": "code",
   "execution_count": null,
   "id": "012ddb13",
   "metadata": {},
   "outputs": [],
   "source": []
  }
 ],
 "metadata": {
  "kernelspec": {
   "display_name": "Python 3 (ipykernel)",
   "language": "python",
   "name": "python3"
  },
  "language_info": {
   "codemirror_mode": {
    "name": "ipython",
    "version": 3
   },
   "file_extension": ".py",
   "mimetype": "text/x-python",
   "name": "python",
   "nbconvert_exporter": "python",
   "pygments_lexer": "ipython3",
   "version": "3.10.9"
  }
 },
 "nbformat": 4,
 "nbformat_minor": 5
}
