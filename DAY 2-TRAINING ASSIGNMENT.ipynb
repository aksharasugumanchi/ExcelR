{
 "cells": [
  {
   "cell_type": "markdown",
   "id": "8b964d17",
   "metadata": {},
   "source": [
    "Create a List, tuple and Dictionary with 5 elements in it and how to access few elements based on the index. Try with different examples"
   ]
  },
  {
   "cell_type": "code",
   "execution_count": 2,
   "id": "19505da9",
   "metadata": {
    "scrolled": true
   },
   "outputs": [
    {
     "name": "stdout",
     "output_type": "stream",
     "text": [
      "List - First element: 10\n",
      "List - Last element: 50\n",
      "List - Slice (index 1 to 3): [20, 30, 40]\n",
      "Tuple - Second element: banana\n",
      "Tuple - Last but one element: date\n",
      "Tuple - Slice (index 2 to end): ('cherry', 'date', 'elderberry')\n",
      "Dictionary - Value of 'name': Alice\n",
      "Dictionary - Value of 'city': Hyderabad\n",
      "Dictionary - All keys: ['name', 'age', 'city', 'hobby', 'status']\n",
      "Dictionary - All values: ['Alice', 25, 'Hyderabad', 'painting', 'active']\n"
     ]
    }
   ],
   "source": [
    "# Create a list, tuple, and dictionary with 5 elements each\n",
    "my_list = [10, 20, 30, 40, 50]               # List\n",
    "my_tuple = ('apple', 'banana', 'cherry', 'date', 'elderberry')  # Tuple\n",
    "my_dict = {'name': 'Alice', 'age': 25, 'city': 'Hyderabad', 'hobby': 'painting', 'status': 'active'}  # Dictionary\n",
    "\n",
    "# Access elements from the list\n",
    "print(\"List - First element:\", my_list[0])   # Access first element\n",
    "print(\"List - Last element:\", my_list[-1])  # Access last element\n",
    "print(\"List - Slice (index 1 to 3):\", my_list[1:4])  # Access slice of elements\n",
    "\n",
    "# Access elements from the tuple\n",
    "print(\"Tuple - Second element:\", my_tuple[1])  # Access second element\n",
    "print(\"Tuple - Last but one element:\", my_tuple[-2])  # Access second last element\n",
    "print(\"Tuple - Slice (index 2 to end):\", my_tuple[2:])  # Access slice of elements\n",
    "\n",
    "# Access elements from the dictionary\n",
    "print(\"Dictionary - Value of 'name':\", my_dict['name'])  # Access value by key\n",
    "print(\"Dictionary - Value of 'city':\", my_dict['city'])  # Access another key\n",
    "print(\"Dictionary - All keys:\", list(my_dict.keys()))    # Get all keys\n",
    "print(\"Dictionary - All values:\", list(my_dict.values()))  # Get all values"
   ]
  },
  {
   "cell_type": "code",
   "execution_count": null,
   "id": "d8a5236f",
   "metadata": {},
   "outputs": [],
   "source": []
  }
 ],
 "metadata": {
  "kernelspec": {
   "display_name": "Python 3 (ipykernel)",
   "language": "python",
   "name": "python3"
  },
  "language_info": {
   "codemirror_mode": {
    "name": "ipython",
    "version": 3
   },
   "file_extension": ".py",
   "mimetype": "text/x-python",
   "name": "python",
   "nbconvert_exporter": "python",
   "pygments_lexer": "ipython3",
   "version": "3.10.9"
  }
 },
 "nbformat": 4,
 "nbformat_minor": 5
}
