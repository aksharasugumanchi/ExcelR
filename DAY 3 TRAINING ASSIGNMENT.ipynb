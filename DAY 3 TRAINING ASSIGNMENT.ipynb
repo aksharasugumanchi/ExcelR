{
 "cells": [
  {
   "cell_type": "markdown",
   "id": "d4daf578",
   "metadata": {},
   "source": [
    "# DAY 3 TRAINING ASSIGNMENT"
   ]
  },
  {
   "cell_type": "markdown",
   "id": "ad6c7f62",
   "metadata": {},
   "source": [
    "Write a Python program that takes a student's marks in three subjects as input.\n",
    "If the average is greater than or equal to 90, print \"Grade: A\".\n",
    "If the average is between 80 and 89, print \"Grade: B\".\n",
    "If the average is between 70 and 79, print \"Grade: C\".\n",
    "Otherwise, print \"Grade: Fail\".\n"
   ]
  },
  {
   "cell_type": "code",
   "execution_count": 2,
   "id": "bc68a282",
   "metadata": {},
   "outputs": [
    {
     "name": "stdout",
     "output_type": "stream",
     "text": [
      "Enter marks for Subject 1: 98\n",
      "Enter marks for Subject 2: 87\n",
      "Enter marks for Subject 3: 75\n",
      "Grade: B\n"
     ]
    }
   ],
   "source": [
    "# Function to calculate grade based on average marks\n",
    "def calculate_grade():\n",
    "    try:\n",
    "        # Taking marks input for three subjects\n",
    "        subject1 = float(input(\"Enter marks for Subject 1: \"))\n",
    "        subject2 = float(input(\"Enter marks for Subject 2: \"))\n",
    "        subject3 = float(input(\"Enter marks for Subject 3: \"))\n",
    "        \n",
    "        # Calculating the average marks\n",
    "        average = (subject1 + subject2 + subject3) / 3\n",
    "        \n",
    "        # Determining the grade\n",
    "        if average >= 90:\n",
    "            print(\"Grade: A\")\n",
    "        elif 80 <= average < 90:\n",
    "            print(\"Grade: B\")\n",
    "        elif 70 <= average < 80:\n",
    "            print(\"Grade: C\")\n",
    "        else:\n",
    "            print(\"Grade: Fail\")\n",
    "    except ValueError:\n",
    "        print(\"Invalid input. Please enter numerical values for marks.\")\n",
    "\n",
    "# Run the program\n",
    "calculate_grade()\n"
   ]
  },
  {
   "cell_type": "code",
   "execution_count": null,
   "id": "f1998982",
   "metadata": {},
   "outputs": [],
   "source": []
  }
 ],
 "metadata": {
  "kernelspec": {
   "display_name": "Python 3 (ipykernel)",
   "language": "python",
   "name": "python3"
  },
  "language_info": {
   "codemirror_mode": {
    "name": "ipython",
    "version": 3
   },
   "file_extension": ".py",
   "mimetype": "text/x-python",
   "name": "python",
   "nbconvert_exporter": "python",
   "pygments_lexer": "ipython3",
   "version": "3.9.13"
  }
 },
 "nbformat": 4,
 "nbformat_minor": 5
}
