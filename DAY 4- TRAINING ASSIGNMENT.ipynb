{
 "cells": [
  {
   "cell_type": "markdown",
   "id": "52bc15fb",
   "metadata": {},
   "source": [
    "Write a Python program to calculate the sum of all even numbers between 1 and a given positive integer n"
   ]
  },
  {
   "cell_type": "code",
   "execution_count": 1,
   "id": "3d327704",
   "metadata": {},
   "outputs": [
    {
     "name": "stdout",
     "output_type": "stream",
     "text": [
      "Enter a positive integer: 12\n",
      "The sum of all even numbers between 1 and 12 is: 42\n"
     ]
    }
   ],
   "source": [
    "# Get the positive integer n from the user\n",
    "n = int(input(\"Enter a positive integer: \"))\n",
    "\n",
    "# Initialize the sum variable\n",
    "sum_even = 0\n",
    "\n",
    "# Loop through numbers from 1 to n\n",
    "for i in range(1, n + 1):\n",
    "    if i % 2 == 0:  # Check if the number is even\n",
    "        sum_even += i  # Add the even number to the sum\n",
    "\n",
    "# Print the result\n",
    "print(f\"The sum of all even numbers between 1 and {n} is: {sum_even}\")"
   ]
  },
  {
   "cell_type": "code",
   "execution_count": null,
   "id": "dcaeec90",
   "metadata": {},
   "outputs": [],
   "source": []
  }
 ],
 "metadata": {
  "kernelspec": {
   "display_name": "Python 3 (ipykernel)",
   "language": "python",
   "name": "python3"
  },
  "language_info": {
   "codemirror_mode": {
    "name": "ipython",
    "version": 3
   },
   "file_extension": ".py",
   "mimetype": "text/x-python",
   "name": "python",
   "nbconvert_exporter": "python",
   "pygments_lexer": "ipython3",
   "version": "3.10.9"
  }
 },
 "nbformat": 4,
 "nbformat_minor": 5
}
