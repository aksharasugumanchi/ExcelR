{
  "nbformat": 4,
  "nbformat_minor": 0,
  "metadata": {
    "colab": {
      "provenance": [],
      "authorship_tag": "ABX9TyMhENKZ7E6Hq63jthir+VnM",
      "include_colab_link": true
    },
    "kernelspec": {
      "name": "python3",
      "display_name": "Python 3"
    },
    "language_info": {
      "name": "python"
    }
  },
  "cells": [
    {
      "cell_type": "markdown",
      "metadata": {
        "id": "view-in-github",
        "colab_type": "text"
      },
      "source": [
        "<a href=\"https://colab.research.google.com/github/aksharasugumanchi/ExcelR/blob/main/DAY-7%20TRAINING%20ASSIGNMENT.ipynb\" target=\"_parent\"><img src=\"https://colab.research.google.com/assets/colab-badge.svg\" alt=\"Open In Colab\"/></a>"
      ]
    },
    {
      "cell_type": "markdown",
      "source": [
        "Write a Python Script\n",
        "1. Use Genism to preprocess data from a sample text file, follow basic procedures like tokenization, stemming, lemmatization etc.\n"
      ],
      "metadata": {
        "id": "euc8Hoybi7YL"
      }
    },
    {
      "cell_type": "code",
      "source": [
        "from gensim.utils import simple_preprocess\n",
        "from gensim.parsing.preprocessing import STOPWORDS\n",
        "from nltk.stem import WordNetLemmatizer, SnowballStemmer\n",
        "import nltk\n",
        "\n",
        "nltk.download('wordnet')\n",
        "\n",
        "def preprocess_text(text):\n",
        "    \"\"\"\n",
        "    Performs basic text preprocessing steps using Gensim and NLTK.\n",
        "\n",
        "    Args:\n",
        "        text: The input text string.\n",
        "\n",
        "    Returns:\n",
        "        A list of preprocessed tokens.\n",
        "    \"\"\"\n",
        "\n",
        "    # 1. Lowercase the text\n",
        "    text = text.lower()\n",
        "\n",
        "    # 2. Tokenize the text into words\n",
        "    tokens = simple_preprocess(text)\n",
        "\n",
        "    # 3. Remove stop words\n",
        "    tokens = [token for token in tokens if token not in STOPWORDS]\n",
        "\n",
        "    # 4. Stemming (optional)\n",
        "    stemmer = SnowballStemmer(\"english\")\n",
        "    # tokens = [stemmer.stem(token) for token in tokens]\n",
        "\n",
        "    # 5. Lemmatization\n",
        "    lemmatizer = WordNetLemmatizer()\n",
        "    tokens = [lemmatizer.lemmatize(token) for token in tokens]\n",
        "\n",
        "    return tokens\n",
        "\n",
        "# Handle the case where the file may not exist\n",
        "try:\n",
        "  with open(\"sample_text.txt\", \"r\") as file:\n",
        "      text = file.read()\n",
        "  preprocessed_tokens = preprocess_text(text)\n",
        "  print(preprocessed_tokens)\n",
        "except FileNotFoundError:\n",
        "  print(\"The file 'sample_text.txt' was not found. Please provide a valid text file for preprocessing.\")"
      ],
      "metadata": {
        "id": "soDYVtxom4GD",
        "outputId": "46b81b68-d934-4386-e2f0-fbff13a02875",
        "colab": {
          "base_uri": "https://localhost:8080/"
        }
      },
      "execution_count": 3,
      "outputs": [
        {
          "output_type": "stream",
          "name": "stdout",
          "text": [
            "The file 'sample_text.txt' was not found. Please provide a valid text file for preprocessing.\n"
          ]
        },
        {
          "output_type": "stream",
          "name": "stderr",
          "text": [
            "[nltk_data] Downloading package wordnet to /root/nltk_data...\n",
            "[nltk_data]   Package wordnet is already up-to-date!\n"
          ]
        }
      ]
    }
  ]
}