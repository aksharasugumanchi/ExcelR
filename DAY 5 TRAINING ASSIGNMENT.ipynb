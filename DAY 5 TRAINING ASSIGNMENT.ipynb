{
 "cells": [
  {
   "cell_type": "markdown",
   "id": "c8eb0ede",
   "metadata": {},
   "source": [
    "# DAY 5 TRAINING ASSIGNMENT"
   ]
  },
  {
   "cell_type": "code",
   "execution_count": 2,
   "id": "0e864a2b",
   "metadata": {},
   "outputs": [
    {
     "name": "stdout",
     "output_type": "stream",
     "text": [
      "Enter a text: AKSHARA IS A GOOD GIRL\n",
      "'akshara': 1\n",
      "'is': 1\n",
      "'a': 1\n",
      "'good': 1\n",
      "'girl': 1\n"
     ]
    }
   ],
   "source": [
    "# Function to calculate word frequency\n",
    "def calculate_word_frequency(text):\n",
    "    # Convert the text to lowercase and split into words\n",
    "    words = text.lower().split()\n",
    "    \n",
    "    # Create an empty dictionary to store word counts\n",
    "    word_counts = {}\n",
    "    \n",
    "    # Count the frequency of each word\n",
    "    for word in words:\n",
    "        word = word.strip(\".,!?()[]{}\\\"'\")  # Remove punctuation from words\n",
    "        word_counts[word] = word_counts.get(word, 0) + 1\n",
    "    \n",
    "    # Print each word and its frequency\n",
    "    for word, count in word_counts.items():\n",
    "        print(f\"'{word}': {count}\")\n",
    "\n",
    "# Take input text from the user\n",
    "text = input(\"Enter a text: \")\n",
    "\n",
    "# Calculate and print word frequencies\n",
    "calculate_word_frequency(text)\n"
   ]
  },
  {
   "cell_type": "code",
   "execution_count": null,
   "id": "69e05079",
   "metadata": {},
   "outputs": [],
   "source": []
  },
  {
   "cell_type": "code",
   "execution_count": null,
   "id": "6e9d3aea",
   "metadata": {},
   "outputs": [],
   "source": []
  }
 ],
 "metadata": {
  "kernelspec": {
   "display_name": "Python 3 (ipykernel)",
   "language": "python",
   "name": "python3"
  },
  "language_info": {
   "codemirror_mode": {
    "name": "ipython",
    "version": 3
   },
   "file_extension": ".py",
   "mimetype": "text/x-python",
   "name": "python",
   "nbconvert_exporter": "python",
   "pygments_lexer": "ipython3",
   "version": "3.9.13"
  }
 },
 "nbformat": 4,
 "nbformat_minor": 5
}
